{
 "cells": [
  {
   "cell_type": "code",
   "execution_count": 1,
   "id": "7c9a1736-9559-4e16-a028-d83779e1658a",
   "metadata": {},
   "outputs": [],
   "source": [
    "a=10"
   ]
  },
  {
   "cell_type": "code",
   "execution_count": 2,
   "id": "67b087c9-f058-4ea2-b4c1-e64f05248f5a",
   "metadata": {},
   "outputs": [],
   "source": [
    "a='c'"
   ]
  },
  {
   "cell_type": "code",
   "execution_count": 3,
   "id": "faa7abea-dfc8-4b04-99bc-163b341a4e1d",
   "metadata": {},
   "outputs": [
    {
     "data": {
      "text/plain": [
       "'c'"
      ]
     },
     "execution_count": 3,
     "metadata": {},
     "output_type": "execute_result"
    }
   ],
   "source": [
    "a"
   ]
  },
  {
   "cell_type": "code",
   "execution_count": 4,
   "id": "dfd7c1fa-12dd-416b-b5ae-db711a62d760",
   "metadata": {},
   "outputs": [
    {
     "data": {
      "text/plain": [
       "str"
      ]
     },
     "execution_count": 4,
     "metadata": {},
     "output_type": "execute_result"
    }
   ],
   "source": [
    "type(a)"
   ]
  },
  {
   "cell_type": "code",
   "execution_count": 5,
   "id": "95898760-bf6c-4035-90b7-4356d31868f9",
   "metadata": {},
   "outputs": [
    {
     "data": {
      "text/plain": [
       "125"
      ]
     },
     "execution_count": 5,
     "metadata": {},
     "output_type": "execute_result"
    }
   ],
   "source": [
    "int('125')"
   ]
  },
  {
   "cell_type": "code",
   "execution_count": 6,
   "id": "6619b9f7-828a-49b0-a581-fbd8c186e1f2",
   "metadata": {},
   "outputs": [
    {
     "name": "stdout",
     "output_type": "stream",
     "text": [
      "123\n"
     ]
    }
   ],
   "source": [
    "print(\"123\")"
   ]
  },
  {
   "cell_type": "code",
   "execution_count": 8,
   "id": "e556c101-36af-43e6-a27d-403a4debb81a",
   "metadata": {},
   "outputs": [
    {
     "name": "stdout",
     "output_type": "stream",
     "text": [
      "abc\n"
     ]
    }
   ],
   "source": [
    "print('abc')"
   ]
  },
  {
   "cell_type": "code",
   "execution_count": 9,
   "id": "13eeef10-e969-4287-9861-57c59317169e",
   "metadata": {},
   "outputs": [],
   "source": [
    "age=28"
   ]
  },
  {
   "cell_type": "code",
   "execution_count": 10,
   "id": "c838809b-2618-4d0a-b921-ddc1e72c6ff8",
   "metadata": {},
   "outputs": [
    {
     "name": "stdout",
     "output_type": "stream",
     "text": [
      "my age is: 28\n"
     ]
    }
   ],
   "source": [
    "print(\"my age is:\",age)"
   ]
  },
  {
   "cell_type": "code",
   "execution_count": 13,
   "id": "ff39b391-ac8f-429e-b0f8-c78eaa132dcb",
   "metadata": {},
   "outputs": [
    {
     "name": "stdout",
     "output_type": "stream",
     "text": [
      "myage is:28\n"
     ]
    }
   ],
   "source": [
    "#f string\n",
    "print(f'myage is:{age}')"
   ]
  },
  {
   "cell_type": "code",
   "execution_count": 17,
   "id": "d84db262-92bc-4322-980c-e4349fdc9972",
   "metadata": {},
   "outputs": [],
   "source": [
    "name='subh'"
   ]
  },
  {
   "cell_type": "code",
   "execution_count": 19,
   "id": "3f4186b9-8cfc-43d2-ac0d-0e41521c4a3f",
   "metadata": {},
   "outputs": [
    {
     "name": "stdout",
     "output_type": "stream",
     "text": [
      "my name is28 & my age issubh\n"
     ]
    }
   ],
   "source": [
    "age=28\n",
    "print(\"my name is{} & my age is{}\".format(age,name))"
   ]
  },
  {
   "cell_type": "code",
   "execution_count": 23,
   "id": "eee3723b-2db0-4393-8208-431247490b52",
   "metadata": {},
   "outputs": [
    {
     "name": "stdout",
     "output_type": "stream",
     "text": [
      "my name issubh & my age is28\n"
     ]
    }
   ],
   "source": [
    "#place holder\n",
    "#to fix \n",
    "\n",
    "print(\"my name is{firstname} & my age is{firstage}\".format(firstage=age,firstname=name))"
   ]
  },
  {
   "cell_type": "code",
   "execution_count": 3,
   "id": "314690e7-b813-4660-b68b-35721a829cd3",
   "metadata": {},
   "outputs": [
    {
     "name": "stdout",
     "output_type": "stream",
     "text": [
      "you are eligible for voting\n"
     ]
    }
   ],
   "source": [
    "#if statement, colon indiates start of if block\n",
    "age=20\n",
    "if age>=18:\n",
    "    print('you are eligible for voting')"
   ]
  },
  {
   "cell_type": "code",
   "execution_count": 8,
   "id": "f476e412-5aee-4898-8d35-243d376455ce",
   "metadata": {},
   "outputs": [
    {
     "name": "stdin",
     "output_type": "stream",
     "text": [
      "enter the age 45\n"
     ]
    }
   ],
   "source": [
    "age= int(input(\"enter the age\"))"
   ]
  },
  {
   "cell_type": "code",
   "execution_count": 9,
   "id": "9d2f9c19-6f80-4d91-9f9d-cb363cecbb3a",
   "metadata": {},
   "outputs": [
    {
     "data": {
      "text/plain": [
       "45"
      ]
     },
     "execution_count": 9,
     "metadata": {},
     "output_type": "execute_result"
    }
   ],
   "source": [
    "age\n"
   ]
  },
  {
   "cell_type": "code",
   "execution_count": 10,
   "id": "996f7f37-6665-4498-9a96-72ea1c83179d",
   "metadata": {},
   "outputs": [
    {
     "name": "stdout",
     "output_type": "stream",
     "text": [
      "you are ayoung blood\n"
     ]
    }
   ],
   "source": [
    "if age>=18 and age<=45:\n",
    "    print('you are ayoung blood')"
   ]
  },
  {
   "cell_type": "code",
   "execution_count": 12,
   "id": "d16d163b-8517-481a-9084-a183d7822d4c",
   "metadata": {},
   "outputs": [
    {
     "name": "stdin",
     "output_type": "stream",
     "text": [
      "enter the age 88\n"
     ]
    },
    {
     "name": "stdout",
     "output_type": "stream",
     "text": [
      "you are rejected\n"
     ]
    }
   ],
   "source": [
    "age= int(input(\"enter the age\"))\n",
    "if age>=18 and age<=45:\n",
    "    print('you are a young blood')\n",
    "else:\n",
    "    print('you are rejected')"
   ]
  },
  {
   "cell_type": "code",
   "execution_count": 16,
   "id": "0bf62a5c-6efe-4bd6-9beb-0e9b89495c28",
   "metadata": {},
   "outputs": [
    {
     "name": "stdin",
     "output_type": "stream",
     "text": [
      "enter the price 800\n"
     ]
    },
    {
     "name": "stdout",
     "output_type": "stream",
     "text": [
      "price of the product is 240.0\n"
     ]
    }
   ],
   "source": [
    "price=int(input(\"enter the price\"))\n",
    "if price>1000:\n",
    "    print ('price of product is {}'.format (price*0.8))\n",
    "else:\n",
    "    print('price of the product is {}'.format (price*0.3))\n"
   ]
  },
  {
   "cell_type": "code",
   "execution_count": 17,
   "id": "585590dd-b5e3-41cb-8cb3-529730943424",
   "metadata": {},
   "outputs": [
    {
     "data": {
      "text/plain": [
       "240.0"
      ]
     },
     "execution_count": 17,
     "metadata": {},
     "output_type": "execute_result"
    }
   ],
   "source": [
    "800*0.3"
   ]
  },
  {
   "cell_type": "code",
   "execution_count": 36,
   "id": "53bce306-7d67-40ab-bb2f-a19e1a6a48e6",
   "metadata": {},
   "outputs": [
    {
     "name": "stdin",
     "output_type": "stream",
     "text": [
      "enter the price 2999\n"
     ]
    },
    {
     "name": "stdout",
     "output_type": "stream",
     "text": [
      "congrats you get a gift\n",
      "price of product is 2099.2999999999997\n"
     ]
    }
   ],
   "source": [
    "price=int(input(\"enter the price\"))\n",
    "if price>3000:\n",
    "    print (f'price of product is {price*0.8}')\n",
    "elif price >=2000 and price <=3000:\n",
    "    if price==2999:\n",
    "        print('congrats you get a gift')\n",
    "    print (f'price of product is {price*0.7}')\n",
    "elif price>100 and price<=2000:\n",
    "     print (f'price of product is {price*0.6}')\n",
    "else:\n",
    "    print (f'lets drink tea')\n",
    "\n",
    "        "
   ]
  },
  {
   "cell_type": "code",
   "execution_count": 30,
   "id": "3d2fa0ce-1cda-4bd7-a00d-ff85bc7b2641",
   "metadata": {},
   "outputs": [
    {
     "data": {
      "text/plain": [
       "1959.9999999999998"
      ]
     },
     "execution_count": 30,
     "metadata": {},
     "output_type": "execute_result"
    }
   ],
   "source": [
    "2800*0.7\n"
   ]
  },
  {
   "cell_type": "code",
   "execution_count": null,
   "id": "9f1afec5-20a4-4537-8813-6defde4ec35a",
   "metadata": {},
   "outputs": [],
   "source": []
  }
 ],
 "metadata": {
  "kernelspec": {
   "display_name": "Python 3 (ipykernel)",
   "language": "python",
   "name": "python3"
  },
  "language_info": {
   "codemirror_mode": {
    "name": "ipython",
    "version": 3
   },
   "file_extension": ".py",
   "mimetype": "text/x-python",
   "name": "python",
   "nbconvert_exporter": "python",
   "pygments_lexer": "ipython3",
   "version": "3.10.8"
  }
 },
 "nbformat": 4,
 "nbformat_minor": 5
}
